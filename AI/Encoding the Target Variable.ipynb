{
 "cells": [
  {
   "cell_type": "code",
   "execution_count": 1,
   "id": "04ad75dc",
   "metadata": {},
   "outputs": [
    {
     "name": "stdout",
     "output_type": "stream",
     "text": [
      "   encoded_species\n",
      "0                0\n",
      "1                0\n",
      "2                0\n",
      "3                0\n",
      "4                0\n",
      "Mapping of categories to integers:\n",
      "setosa: 0\n",
      "versicolor: 1\n",
      "virginica: 2\n"
     ]
    }
   ],
   "source": [
    "from sklearn.preprocessing import LabelEncoder\n",
    "import pandas as pd\n",
    "import seaborn as sns\n",
    "\n",
    "# Load a sample dataset\n",
    "df = sns.load_dataset('iris')\n",
    "\n",
    "# Separate features and target\n",
    "features = df.drop('species', axis=1)\n",
    "target = df['species']\n",
    "\n",
    "# Initialize the LabelEncoder\n",
    "encoder = LabelEncoder()\n",
    "\n",
    "# Fit and transform the target variable\n",
    "encoded_target = encoder.fit_transform(target)\n",
    "\n",
    "# Convert the encoded target back to a DataFrame\n",
    "encoded_target_df = pd.DataFrame(encoded_target, columns=['encoded_species'])\n",
    "\n",
    "# Print the first few rows of the encoded target\n",
    "print(encoded_target_df.head())\n",
    "\n",
    "# Check the mapping of categories to integers\n",
    "print(\"Mapping of categories to integers:\")\n",
    "for i, category in enumerate(encoder.classes_):\n",
    "    print(f\"{category}: {i}\")\n"
   ]
  },
  {
   "cell_type": "code",
   "execution_count": null,
   "id": "9722d1c8",
   "metadata": {},
   "outputs": [],
   "source": []
  }
 ],
 "metadata": {
  "kernelspec": {
   "display_name": "Python 3 (ipykernel)",
   "language": "python",
   "name": "python3"
  },
  "language_info": {
   "codemirror_mode": {
    "name": "ipython",
    "version": 3
   },
   "file_extension": ".py",
   "mimetype": "text/x-python",
   "name": "python",
   "nbconvert_exporter": "python",
   "pygments_lexer": "ipython3",
   "version": "3.11.5"
  }
 },
 "nbformat": 4,
 "nbformat_minor": 5
}
