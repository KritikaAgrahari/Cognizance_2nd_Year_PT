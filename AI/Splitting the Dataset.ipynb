{
 "cells": [
  {
   "cell_type": "code",
   "execution_count": 1,
   "id": "88385e10",
   "metadata": {},
   "outputs": [
    {
     "name": "stdout",
     "output_type": "stream",
     "text": [
      "Training features shape: (120, 4)\n",
      "Testing features shape: (30, 4)\n",
      "Training target shape: (120,)\n",
      "Testing target shape: (30,)\n",
      "\n",
      "First few rows of the training features:\n",
      "    sepal_length  sepal_width  petal_length  petal_width\n",
      "22           4.6          3.6           1.0          0.2\n",
      "15           5.7          4.4           1.5          0.4\n",
      "65           6.7          3.1           4.4          1.4\n",
      "11           4.8          3.4           1.6          0.2\n",
      "42           4.4          3.2           1.3          0.2\n",
      "\n",
      "First few rows of the training target:\n",
      "[0 0 1 0 0]\n",
      "\n",
      "First few rows of the testing features:\n",
      "     sepal_length  sepal_width  petal_length  petal_width\n",
      "73            6.1          2.8           4.7          1.2\n",
      "18            5.7          3.8           1.7          0.3\n",
      "118           7.7          2.6           6.9          2.3\n",
      "78            6.0          2.9           4.5          1.5\n",
      "76            6.8          2.8           4.8          1.4\n",
      "\n",
      "First few rows of the testing target:\n",
      "[1 0 2 1 1]\n"
     ]
    }
   ],
   "source": [
    "from sklearn.model_selection import train_test_split\n",
    "from sklearn.preprocessing import LabelEncoder\n",
    "import seaborn as sns\n",
    "import pandas as pd\n",
    "import matplotlib.pyplot as plt\n",
    "\n",
    "# Load a sample dataset\n",
    "df = sns.load_dataset('iris')\n",
    "\n",
    "# Separate features and target\n",
    "features = df.drop('species', axis=1)\n",
    "target = df['species']\n",
    "\n",
    "# Encode the target variable\n",
    "encoder = LabelEncoder()\n",
    "encoded_target = encoder.fit_transform(target)\n",
    "\n",
    "# Split the dataset into training and testing sets\n",
    "X_train, X_test, y_train, y_test = train_test_split(features, encoded_target, test_size=0.2, random_state=42)\n",
    "\n",
    "# Print the shape of the resulting datasets\n",
    "print(f\"Training features shape: {X_train.shape}\")\n",
    "print(f\"Testing features shape: {X_test.shape}\")\n",
    "print(f\"Training target shape: {y_train.shape}\")\n",
    "print(f\"Testing target shape: {y_test.shape}\")\n",
    "\n",
    "# Optional: Print a few rows of the training and testing sets\n",
    "print(\"\\nFirst few rows of the training features:\")\n",
    "print(X_train.head())\n",
    "\n",
    "print(\"\\nFirst few rows of the training target:\")\n",
    "print(y_train[:5])\n",
    "\n",
    "print(\"\\nFirst few rows of the testing features:\")\n",
    "print(X_test.head())\n",
    "\n",
    "print(\"\\nFirst few rows of the testing target:\")\n",
    "print(y_test[:5])\n"
   ]
  },
  {
   "cell_type": "code",
   "execution_count": null,
   "id": "21daf970",
   "metadata": {},
   "outputs": [],
   "source": []
  }
 ],
 "metadata": {
  "kernelspec": {
   "display_name": "Python 3 (ipykernel)",
   "language": "python",
   "name": "python3"
  },
  "language_info": {
   "codemirror_mode": {
    "name": "ipython",
    "version": 3
   },
   "file_extension": ".py",
   "mimetype": "text/x-python",
   "name": "python",
   "nbconvert_exporter": "python",
   "pygments_lexer": "ipython3",
   "version": "3.11.5"
  }
 },
 "nbformat": 4,
 "nbformat_minor": 5
}
